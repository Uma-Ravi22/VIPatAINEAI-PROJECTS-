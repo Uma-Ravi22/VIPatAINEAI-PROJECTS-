{
 "cells": [
  {
   "cell_type": "markdown",
   "metadata": {},
   "source": [
    "### #VIPatAINEAI\n",
    "## Virtual Internship Program - VIP @ AINE AI."
   ]
  },
  {
   "cell_type": "markdown",
   "metadata": {},
   "source": [
    "<img src=\"AINE AI Image.JPG\" width=\"150\" />"
   ]
  },
  {
   "cell_type": "markdown",
   "metadata": {
    "id": "kv-TcsXdiSZp"
   },
   "source": [
    "### Project: Statistical Analysis and Hypothesis Testing using Python. \n",
    "<br>\n",
    "<div style = \"font-size: 15px\">\n",
    "<b>Submitted by: Umadevi Balasubramanian</b>\n",
    "<br><b><I>\n",
    "Data Science Intern - September 2021 Batch</b></I></div>\n",
    "\n",
    "<b>Purpose: Increasing the revenue from game purchases by increasing the Retention Rate of gamers.</b><br>\n",
    "<br>\n",
    "<b>About the project: </b>The project involves working on data related to Cookie Cats – a hugely popular puzzle game. As players progress through the levels of the game, they will occasionally encounter gates that force them to wait a non-trivial amount of time or make an in-app purchase to progress. In addition to driving in-app purchases, these gates serve the important purpose of giving players an enforced break from playing the game, hopefully resulting in the player's enjoyment of the game being increased and prolonged. But where should the gates be placed and how the placement of the gates can retain the players for more time.\n",
    "The project requires you to:\n",
    "- Perform exploratory data analysis of the given datasets and generate their statistical summary.\n",
    "- Perform A/B testing between the two groups of data to analyze the impact on player retention if the first gate in Cookie Cats is moved from level 30 to level 40.\n",
    "<br>\n",
    "\n",
    "<img src = \"CookieCatImage_Project7.JPG\" align=\"middle\"></img><br>\n",
    "<br>\n",
    "<b>Tool Used:</b> Jupyter Notebook\n",
    "<br><br>\n",
    "<b>Aim: </b>Even though the overall subscription for the game is growing, the revenue from in-game purchases has been declining \n",
    "and many players are uninstalling the game after playing for a few days. What recommendations can you suggest increasing the \n",
    "in-game purchase and retaining the players?\n",
    "\n",
    "<b> Objectives: </b> The overall objective of the project is to test the company’s CEO’s hypothesis that moving the first \n",
    "gate from level 30 to level 40 increases retention rate and the number of game rounds played. The CEO believes that players \n",
    "are churning because the first gate encountered at level 30 is too early which forces players to wait before they can \n",
    "proceed further in the game.\n",
    "\n",
    "In order to increase player retention rate, developers ran <b>AB-Test</b> by moving the first gate from level 30 to level 40 for some players i.e.,\n",
    "- group A would encounter the gate at level 30, and\n",
    "- group B would encounter the gate at level 40\n",
    "\n",
    "<b>A/B Testing:</b>\n",
    "- A/B test, also known as split test, allow us to compare 2 versions (Group A & Group B) of something to learn which is more effective.\n"
   ]
  },
  {
   "cell_type": "markdown",
   "metadata": {
    "id": "gi9x4HR1iSZp"
   },
   "source": [
    "## Packages and setup"
   ]
  },
  {
   "cell_type": "code",
   "execution_count": 1,
   "metadata": {
    "id": "NdQrrUh3iSZq"
   },
   "outputs": [],
   "source": [
    "import numpy as np\n",
    "import pandas as pd \n",
    "import seaborn as sns\n",
    "import matplotlib.pyplot as plt\n",
    "import os\n",
    "\n",
    "from scipy.stats import shapiro\n",
    "import scipy.stats as stats\n",
    "\n",
    "#parameter settings\n",
    "from IPython.core.interactiveshell import InteractiveShell\n",
    "InteractiveShell.ast_node_interactivity = \"all\"\n",
    "import warnings\n",
    "warnings.filterwarnings(\"ignore\")\n",
    "warnings.simplefilter(action='ignore', category=FutureWarning)"
   ]
  },
  {
   "cell_type": "markdown",
   "metadata": {
    "id": "qqf_XDwZiSZq"
   },
   "source": [
    "### Reading data and initial processing"
   ]
  },
  {
   "cell_type": "code",
   "execution_count": 2,
   "metadata": {
    "id": "OE839ZtOiSZr"
   },
   "outputs": [],
   "source": [
    "#Read data using pandas\n",
    "user_df = pd.read_csv(\"cookie_cats.csv\")"
   ]
  },
  {
   "cell_type": "markdown",
   "metadata": {},
   "source": [
    "### Data Exploration"
   ]
  },
  {
   "cell_type": "markdown",
   "metadata": {},
   "source": [
    "<b> Check the Data Types & Dimensions of the dataset. </b>"
   ]
  },
  {
   "cell_type": "code",
   "execution_count": 3,
   "metadata": {},
   "outputs": [
    {
     "name": "stdout",
     "output_type": "stream",
     "text": [
      "Data types for the data set:\n"
     ]
    },
    {
     "data": {
      "text/plain": [
       "userid             int64\n",
       "version           object\n",
       "sum_gamerounds     int64\n",
       "retention_1         bool\n",
       "retention_7         bool\n",
       "dtype: object"
      ]
     },
     "execution_count": 3,
     "metadata": {},
     "output_type": "execute_result"
    },
    {
     "name": "stdout",
     "output_type": "stream",
     "text": [
      "Shape of the data i.e. No. of rows and columns\n"
     ]
    },
    {
     "data": {
      "text/plain": [
       "(90189, 5)"
      ]
     },
     "execution_count": 3,
     "metadata": {},
     "output_type": "execute_result"
    }
   ],
   "source": [
    "#Check data types of each column using \"dtypes\" function\n",
    "print(\"Data types for the data set:\")\n",
    "user_df.dtypes\n",
    "\n",
    "#Check dimension of data i.e. # of rows and #column using pandas \"shape\" funtion\n",
    "print(\"Shape of the data i.e. No. of rows and columns\")\n",
    "user_df.shape"
   ]
  },
  {
   "cell_type": "markdown",
   "metadata": {},
   "source": [
    "<b>Displaying first 5 Rows of data.</b>"
   ]
  },
  {
   "cell_type": "code",
   "execution_count": 4,
   "metadata": {},
   "outputs": [
    {
     "name": "stdout",
     "output_type": "stream",
     "text": [
      "First 5 rows of the raw data:\n"
     ]
    },
    {
     "data": {
      "text/html": [
       "<div>\n",
       "<style scoped>\n",
       "    .dataframe tbody tr th:only-of-type {\n",
       "        vertical-align: middle;\n",
       "    }\n",
       "\n",
       "    .dataframe tbody tr th {\n",
       "        vertical-align: top;\n",
       "    }\n",
       "\n",
       "    .dataframe thead th {\n",
       "        text-align: right;\n",
       "    }\n",
       "</style>\n",
       "<table border=\"1\" class=\"dataframe\">\n",
       "  <thead>\n",
       "    <tr style=\"text-align: right;\">\n",
       "      <th></th>\n",
       "      <th>userid</th>\n",
       "      <th>version</th>\n",
       "      <th>sum_gamerounds</th>\n",
       "      <th>retention_1</th>\n",
       "      <th>retention_7</th>\n",
       "    </tr>\n",
       "  </thead>\n",
       "  <tbody>\n",
       "    <tr>\n",
       "      <th>0</th>\n",
       "      <td>116</td>\n",
       "      <td>gate_30</td>\n",
       "      <td>3</td>\n",
       "      <td>False</td>\n",
       "      <td>False</td>\n",
       "    </tr>\n",
       "    <tr>\n",
       "      <th>1</th>\n",
       "      <td>337</td>\n",
       "      <td>gate_30</td>\n",
       "      <td>38</td>\n",
       "      <td>True</td>\n",
       "      <td>False</td>\n",
       "    </tr>\n",
       "    <tr>\n",
       "      <th>2</th>\n",
       "      <td>377</td>\n",
       "      <td>gate_40</td>\n",
       "      <td>165</td>\n",
       "      <td>True</td>\n",
       "      <td>False</td>\n",
       "    </tr>\n",
       "    <tr>\n",
       "      <th>3</th>\n",
       "      <td>483</td>\n",
       "      <td>gate_40</td>\n",
       "      <td>1</td>\n",
       "      <td>False</td>\n",
       "      <td>False</td>\n",
       "    </tr>\n",
       "    <tr>\n",
       "      <th>4</th>\n",
       "      <td>488</td>\n",
       "      <td>gate_40</td>\n",
       "      <td>179</td>\n",
       "      <td>True</td>\n",
       "      <td>True</td>\n",
       "    </tr>\n",
       "  </tbody>\n",
       "</table>\n",
       "</div>"
      ],
      "text/plain": [
       "   userid  version  sum_gamerounds  retention_1  retention_7\n",
       "0     116  gate_30               3        False        False\n",
       "1     337  gate_30              38         True        False\n",
       "2     377  gate_40             165         True        False\n",
       "3     483  gate_40               1        False        False\n",
       "4     488  gate_40             179         True         True"
      ]
     },
     "execution_count": 4,
     "metadata": {},
     "output_type": "execute_result"
    }
   ],
   "source": [
    "#display first 5 rows of the data using \"head\" function\n",
    "\n",
    "print(\"First 5 rows of the raw data:\")\n",
    "user_df.head(5)"
   ]
  },
  {
   "cell_type": "markdown",
   "metadata": {},
   "source": [
    "<img src=\"Project7_DataInfo.JPG\" align='left'></img>"
   ]
  },
  {
   "cell_type": "markdown",
   "metadata": {
    "id": "hMuveQlXiSZr"
   },
   "source": [
    "## Exercise"
   ]
  },
  {
   "cell_type": "markdown",
   "metadata": {
    "id": "iN8-hwHDiSZs"
   },
   "source": [
    "## Q1. Detect and resolve problems in the data (Missing value, Outliers, etc.)"
   ]
  },
  {
   "cell_type": "markdown",
   "metadata": {
    "id": "h_ZnLazliSZs"
   },
   "source": [
    "### Q1.1 Identify missing value"
   ]
  },
  {
   "cell_type": "code",
   "execution_count": 5,
   "metadata": {
    "id": "g0YE1IjfiSZs"
   },
   "outputs": [
    {
     "data": {
      "text/plain": [
       "userid            0\n",
       "version           0\n",
       "sum_gamerounds    0\n",
       "retention_1       0\n",
       "retention_7       0\n",
       "dtype: int64"
      ]
     },
     "execution_count": 5,
     "metadata": {},
     "output_type": "execute_result"
    }
   ],
   "source": [
    "#Check for any missing values in the data using isnull() function\n",
    "\n",
    "user_df.isnull().sum()"
   ]
  },
  {
   "cell_type": "markdown",
   "metadata": {},
   "source": [
    "<b> No missing values detected.</b>"
   ]
  },
  {
   "cell_type": "code",
   "execution_count": 6,
   "metadata": {},
   "outputs": [
    {
     "data": {
      "text/plain": [
       "1.0"
      ]
     },
     "execution_count": 6,
     "metadata": {},
     "output_type": "execute_result"
    }
   ],
   "source": [
    "# To check if there is any duplicate user_id\n",
    "user_df.userid.nunique() / user_df.shape[0]            "
   ]
  },
  {
   "cell_type": "markdown",
   "metadata": {},
   "source": [
    "<b>No duplicate data found.</b>"
   ]
  },
  {
   "cell_type": "markdown",
   "metadata": {
    "id": "tMU_kjsiiSZs"
   },
   "source": [
    "### Q1.2 Identify outliers"
   ]
  },
  {
   "cell_type": "code",
   "execution_count": 7,
   "metadata": {
    "id": "IMwNE8XBiSZt"
   },
   "outputs": [
    {
     "data": {
      "text/plain": [
       "Text(0.5, 1.0, 'Total gamerounds played')"
      ]
     },
     "execution_count": 7,
     "metadata": {},
     "output_type": "execute_result"
    },
    {
     "data": {
      "text/plain": [
       "Text(0.5, 0, 'Index')"
      ]
     },
     "execution_count": 7,
     "metadata": {},
     "output_type": "execute_result"
    },
    {
     "data": {
      "text/plain": [
       "Text(0, 0.5, 'sum_gamerounds')"
      ]
     },
     "execution_count": 7,
     "metadata": {},
     "output_type": "execute_result"
    },
    {
     "data": {
      "text/plain": [
       "[<matplotlib.lines.Line2D at 0x1ff3d16bef0>]"
      ]
     },
     "execution_count": 7,
     "metadata": {},
     "output_type": "execute_result"
    },
    {
     "data": {
      "image/png": "[encoded data removed]",
      "text/plain": [
       "<Figure size 432x288 with 1 Axes>"
      ]
     },
     "metadata": {
      "needs_background": "light"
     },
     "output_type": "display_data"
    }
   ],
   "source": [
    "#Check for outlier values in sum_gamerounds column\n",
    "plt.title(\"Total gamerounds played\")\n",
    "plt.xlabel(\"Index\")\n",
    "plt.ylabel(\"sum_gamerounds\")\n",
    "plt.plot(user_df.sum_gamerounds)"
   ]
  },
  {
   "cell_type": "markdown",
   "metadata": {},
   "source": [
    "<b>The above plot shows that there is an outlier. Using max() function, we figure out the outlier value for  \n",
    "sum_gamerounds as 49,854.</b>"
   ]
  },
  {
   "cell_type": "markdown",
   "metadata": {},
   "source": [
    "<b>Figure out the outlier value.</b>"
   ]
  },
  {
   "cell_type": "code",
   "execution_count": 8,
   "metadata": {},
   "outputs": [
    {
     "data": {
      "text/plain": [
       "49854"
      ]
     },
     "execution_count": 8,
     "metadata": {},
     "output_type": "execute_result"
    }
   ],
   "source": [
    "user_df.sum_gamerounds.max()"
   ]
  },
  {
   "cell_type": "markdown",
   "metadata": {},
   "source": [
    "<b> Finding the index value of outlier value to remove it.</b>"
   ]
  },
  {
   "cell_type": "code",
   "execution_count": 9,
   "metadata": {
    "id": "XOdf6IaOiSZt"
   },
   "outputs": [
    {
     "name": "stdout",
     "output_type": "stream",
     "text": [
      "The Index value of Maximum sum_gamerounds is: 57702\n"
     ]
    }
   ],
   "source": [
    "#Based on the plot, filter out the outlier from sum_gamerounds played; Use max() fucntion to find the index of the outlier\n",
    "\n",
    "index_value = user_df.sum_gamerounds.idxmax()\n",
    "\n",
    "print(\"The Index value of Maximum sum_gamerounds is:\", index_value)\n"
   ]
  },
  {
   "cell_type": "code",
   "execution_count": 10,
   "metadata": {},
   "outputs": [
    {
     "data": {
      "text/html": [
       "<div>\n",
       "<style scoped>\n",
       "    .dataframe tbody tr th:only-of-type {\n",
       "        vertical-align: middle;\n",
       "    }\n",
       "\n",
       "    .dataframe tbody tr th {\n",
       "        vertical-align: top;\n",
       "    }\n",
       "\n",
       "    .dataframe thead th {\n",
       "        text-align: right;\n",
       "    }\n",
       "</style>\n",
       "<table border=\"1\" class=\"dataframe\">\n",
       "  <thead>\n",
       "    <tr style=\"text-align: right;\">\n",
       "      <th></th>\n",
       "      <th>userid</th>\n",
       "      <th>version</th>\n",
       "      <th>sum_gamerounds</th>\n",
       "      <th>retention_1</th>\n",
       "      <th>retention_7</th>\n",
       "    </tr>\n",
       "  </thead>\n",
       "  <tbody>\n",
       "    <tr>\n",
       "      <th>57702</th>\n",
       "      <td>6390605</td>\n",
       "      <td>gate_30</td>\n",
       "      <td>49854</td>\n",
       "      <td>False</td>\n",
       "      <td>True</td>\n",
       "    </tr>\n",
       "  </tbody>\n",
       "</table>\n",
       "</div>"
      ],
      "text/plain": [
       "        userid  version  sum_gamerounds  retention_1  retention_7\n",
       "57702  6390605  gate_30           49854        False         True"
      ]
     },
     "metadata": {},
     "output_type": "display_data"
    }
   ],
   "source": [
    "# Display Record having sum_gamerounds is 49854 which is at Index 57702.\n",
    "\n",
    "display(user_df.loc[user_df.sum_gamerounds == 49854])"
   ]
  },
  {
   "cell_type": "markdown",
   "metadata": {},
   "source": [
    "<b>After finding the index value (57702) of the outlier value, we drop the data row which contains the outlier.</b>"
   ]
  },
  {
   "cell_type": "code",
   "execution_count": 11,
   "metadata": {
    "id": "7_9eQe7riSZt"
   },
   "outputs": [
    {
     "data": {
      "text/html": [
       "<div>\n",
       "<style scoped>\n",
       "    .dataframe tbody tr th:only-of-type {\n",
       "        vertical-align: middle;\n",
       "    }\n",
       "\n",
       "    .dataframe tbody tr th {\n",
       "        vertical-align: top;\n",
       "    }\n",
       "\n",
       "    .dataframe thead th {\n",
       "        text-align: right;\n",
       "    }\n",
       "</style>\n",
       "<table border=\"1\" class=\"dataframe\">\n",
       "  <thead>\n",
       "    <tr style=\"text-align: right;\">\n",
       "      <th></th>\n",
       "      <th>userid</th>\n",
       "      <th>version</th>\n",
       "      <th>sum_gamerounds</th>\n",
       "      <th>retention_1</th>\n",
       "      <th>retention_7</th>\n",
       "    </tr>\n",
       "  </thead>\n",
       "  <tbody>\n",
       "    <tr>\n",
       "      <th>0</th>\n",
       "      <td>116</td>\n",
       "      <td>gate_30</td>\n",
       "      <td>3</td>\n",
       "      <td>False</td>\n",
       "      <td>False</td>\n",
       "    </tr>\n",
       "    <tr>\n",
       "      <th>1</th>\n",
       "      <td>337</td>\n",
       "      <td>gate_30</td>\n",
       "      <td>38</td>\n",
       "      <td>True</td>\n",
       "      <td>False</td>\n",
       "    </tr>\n",
       "    <tr>\n",
       "      <th>2</th>\n",
       "      <td>377</td>\n",
       "      <td>gate_40</td>\n",
       "      <td>165</td>\n",
       "      <td>True</td>\n",
       "      <td>False</td>\n",
       "    </tr>\n",
       "    <tr>\n",
       "      <th>3</th>\n",
       "      <td>483</td>\n",
       "      <td>gate_40</td>\n",
       "      <td>1</td>\n",
       "      <td>False</td>\n",
       "      <td>False</td>\n",
       "    </tr>\n",
       "    <tr>\n",
       "      <th>4</th>\n",
       "      <td>488</td>\n",
       "      <td>gate_40</td>\n",
       "      <td>179</td>\n",
       "      <td>True</td>\n",
       "      <td>True</td>\n",
       "    </tr>\n",
       "    <tr>\n",
       "      <th>...</th>\n",
       "      <td>...</td>\n",
       "      <td>...</td>\n",
       "      <td>...</td>\n",
       "      <td>...</td>\n",
       "      <td>...</td>\n",
       "    </tr>\n",
       "    <tr>\n",
       "      <th>90184</th>\n",
       "      <td>9999441</td>\n",
       "      <td>gate_40</td>\n",
       "      <td>97</td>\n",
       "      <td>True</td>\n",
       "      <td>False</td>\n",
       "    </tr>\n",
       "    <tr>\n",
       "      <th>90185</th>\n",
       "      <td>9999479</td>\n",
       "      <td>gate_40</td>\n",
       "      <td>30</td>\n",
       "      <td>False</td>\n",
       "      <td>False</td>\n",
       "    </tr>\n",
       "    <tr>\n",
       "      <th>90186</th>\n",
       "      <td>9999710</td>\n",
       "      <td>gate_30</td>\n",
       "      <td>28</td>\n",
       "      <td>True</td>\n",
       "      <td>False</td>\n",
       "    </tr>\n",
       "    <tr>\n",
       "      <th>90187</th>\n",
       "      <td>9999768</td>\n",
       "      <td>gate_40</td>\n",
       "      <td>51</td>\n",
       "      <td>True</td>\n",
       "      <td>False</td>\n",
       "    </tr>\n",
       "    <tr>\n",
       "      <th>90188</th>\n",
       "      <td>9999861</td>\n",
       "      <td>gate_40</td>\n",
       "      <td>16</td>\n",
       "      <td>False</td>\n",
       "      <td>False</td>\n",
       "    </tr>\n",
       "  </tbody>\n",
       "</table>\n",
       "<p>90188 rows × 5 columns</p>\n",
       "</div>"
      ],
      "text/plain": [
       "        userid  version  sum_gamerounds  retention_1  retention_7\n",
       "0          116  gate_30               3        False        False\n",
       "1          337  gate_30              38         True        False\n",
       "2          377  gate_40             165         True        False\n",
       "3          483  gate_40               1        False        False\n",
       "4          488  gate_40             179         True         True\n",
       "...        ...      ...             ...          ...          ...\n",
       "90184  9999441  gate_40              97         True        False\n",
       "90185  9999479  gate_40              30        False        False\n",
       "90186  9999710  gate_30              28         True        False\n",
       "90187  9999768  gate_40              51         True        False\n",
       "90188  9999861  gate_40              16        False        False\n",
       "\n",
       "[90188 rows x 5 columns]"
      ]
     },
     "metadata": {},
     "output_type": "display_data"
    }
   ],
   "source": [
    "#Plot the graph for sum_gamerounds player after removing the outlier\n",
    "\n",
    "user_df.drop(index = index_value, inplace=True)\n",
    "display(user_df)"
   ]
  },
  {
   "cell_type": "markdown",
   "metadata": {},
   "source": [
    "<b> Plotting again the sum_gamerounds column after removing outlier.</b>"
   ]
  },
  {
   "cell_type": "code",
   "execution_count": 12,
   "metadata": {},
   "outputs": [
    {
     "data": {
      "text/plain": [
       "Text(0.5, 1.0, 'Total gamerounds played')"
      ]
     },
     "execution_count": 12,
     "metadata": {},
     "output_type": "execute_result"
    },
    {
     "data": {
      "text/plain": [
       "Text(0.5, 0, 'Index')"
      ]
     },
     "execution_count": 12,
     "metadata": {},
     "output_type": "execute_result"
    },
    {
     "data": {
      "text/plain": [
       "Text(0, 0.5, 'sum_gamerounds')"
      ]
     },
     "execution_count": 12,
     "metadata": {},
     "output_type": "execute_result"
    },
    {
     "data": {
      "text/plain": [
       "[<matplotlib.lines.Line2D at 0x1ff3cd6df28>]"
      ]
     },
     "execution_count": 12,
     "metadata": {},
     "output_type": "execute_result"
    },
    {
     "data": {
      "image/png": "[encoded data removed]",
      "text/plain": [
       "<Figure size 432x288 with 1 Axes>"
      ]
     },
     "metadata": {
      "needs_background": "light"
     },
     "output_type": "display_data"
    }
   ],
   "source": [
    "plt.title(\"Total gamerounds played\")\n",
    "plt.xlabel(\"Index\")\n",
    "plt.ylabel(\"sum_gamerounds\")\n",
    "plt.plot(user_df.sum_gamerounds)"
   ]
  },
  {
   "cell_type": "markdown",
   "metadata": {},
   "source": [
    "<h3><b><span style = 'color:MediumVioletRed'>Step 1: Initial Data Preparation is done.</span></b></h3>"
   ]
  },
  {
   "cell_type": "markdown",
   "metadata": {
    "id": "MRUPfPr9iSZt"
   },
   "source": [
    "## Q2. Plot summary statistics and identify trends to answer basis business questions"
   ]
  },
  {
   "cell_type": "markdown",
   "metadata": {
    "id": "4-Ah9dqQiSZt"
   },
   "source": [
    "### Q2.1 What is the overall 7-day retention rate of the game?"
   ]
  },
  {
   "cell_type": "code",
   "execution_count": 13,
   "metadata": {
    "id": "hHykqZ3YiSZu"
   },
   "outputs": [
    {
     "name": "stdout",
     "output_type": "stream",
     "text": [
      "Overall 7-Days Retention Rate of the game for both versions is: 18.61 %\n"
     ]
    }
   ],
   "source": [
    "#Insert calculation for 7-day retention rate\n",
    "\n",
    "retention_day7 = (user_df[\"retention_7\"].mean()) * 100\n",
    "print(f\"Overall 7-Days Retention Rate of the game for both versions is: %.2f \" %retention_day7 + \"%\")\n"
   ]
  },
  {
   "cell_type": "markdown",
   "metadata": {
    "id": "5okbyesoiSZu"
   },
   "source": [
    "### Q2.2 How many players never played the game after installing? "
   ]
  },
  {
   "cell_type": "code",
   "execution_count": 14,
   "metadata": {
    "id": "goO-ALhkiSZu"
   },
   "outputs": [
    {
     "name": "stdout",
     "output_type": "stream",
     "text": [
      "3994\n"
     ]
    }
   ],
   "source": [
    "# Find number of customers with sum_gamerounds is equal to zero\n",
    "# Method 1\n",
    "\n",
    "never_played_game = user_df.sum_gamerounds[user_df.sum_gamerounds == 0].count()\n",
    "print(never_played_game)\n",
    "\n",
    "# Method 2\n",
    "#never_played_game = len(user_df[user_df.sum_gamerounds == 0] .index)\n"
   ]
  },
  {
   "cell_type": "markdown",
   "metadata": {
    "id": "EVEICqddiSZu"
   },
   "source": [
    "### Q2.3 Does the number of users decrease as the level progresses highlighting the difficulty of the game?"
   ]
  },
  {
   "cell_type": "code",
   "execution_count": 15,
   "metadata": {
    "id": "zxwwafgFiSZu"
   },
   "outputs": [
    {
     "data": {
      "text/plain": [
       "[<matplotlib.lines.Line2D at 0x1ff3cf864a8>]"
      ]
     },
     "execution_count": 15,
     "metadata": {},
     "output_type": "execute_result"
    },
    {
     "data": {
      "text/plain": [
       "Text(0.5, 0, 'Sum_Gamerounds')"
      ]
     },
     "execution_count": 15,
     "metadata": {},
     "output_type": "execute_result"
    },
    {
     "data": {
      "text/plain": [
       "Text(0, 0.5, 'Count of Users')"
      ]
     },
     "execution_count": 15,
     "metadata": {},
     "output_type": "execute_result"
    },
    {
     "data": {
      "image/png": "[encoded data removed]",
      "text/plain": [
       "<Figure size 432x288 with 1 Axes>"
      ]
     },
     "metadata": {
      "needs_background": "light"
     },
     "output_type": "display_data"
    }
   ],
   "source": [
    "#Group by sum_gamerounds and count the number of users for the first 200 gamerounds\n",
    "#Use plot() function on the summarized stats to visualize the chart\n",
    "\n",
    "num_users = user_df.groupby(\"sum_gamerounds\").userid.count()\n",
    "plt.plot(num_users[:201])\n",
    "plt.xlabel(\"Sum_Gamerounds\")\n",
    "plt.ylabel(\"Count of Users\")"
   ]
  },
  {
   "cell_type": "markdown",
   "metadata": {},
   "source": [
    "<mark> __Observation:__\n",
    "    \n",
    "- <b>The observation from the above plot is, the number of users decreased as the game level increases, \n",
    "which means that the high level game-rounds are difficult.</b>"
   ]
  },
  {
   "cell_type": "markdown",
   "metadata": {},
   "source": [
    "<h3><b><span style = 'color:MediumVioletRed'>Step 2: Statistical summary was generated and charts were plotted\n",
    "to answer the given questions.</span></b></h3>"
   ]
  },
  {
   "cell_type": "markdown",
   "metadata": {
    "id": "DcyQYU-tiSZu"
   },
   "source": [
    "## Q3. Generate crosstab for two groups of players to understand if there is a difference in 7 days retention rate & total number of game rounds played"
   ]
  },
  {
   "cell_type": "markdown",
   "metadata": {
    "id": "2w7GpBd8iSZu"
   },
   "source": [
    "### Q3.1 Seven days retention rate summary for different game versions"
   ]
  },
  {
   "cell_type": "code",
   "execution_count": 16,
   "metadata": {
    "id": "-t8DdMxBiSZu",
    "outputId": "7400ae07-5180-4b58-fd59-9360779e8b57"
   },
   "outputs": [
    {
     "data": {
      "text/html": [
       "<div>\n",
       "<style scoped>\n",
       "    .dataframe tbody tr th:only-of-type {\n",
       "        vertical-align: middle;\n",
       "    }\n",
       "\n",
       "    .dataframe tbody tr th {\n",
       "        vertical-align: top;\n",
       "    }\n",
       "\n",
       "    .dataframe thead th {\n",
       "        text-align: right;\n",
       "    }\n",
       "</style>\n",
       "<table border=\"1\" class=\"dataframe\">\n",
       "  <thead>\n",
       "    <tr style=\"text-align: right;\">\n",
       "      <th>retention_7</th>\n",
       "      <th>False</th>\n",
       "      <th>True</th>\n",
       "    </tr>\n",
       "    <tr>\n",
       "      <th>version</th>\n",
       "      <th></th>\n",
       "      <th></th>\n",
       "    </tr>\n",
       "  </thead>\n",
       "  <tbody>\n",
       "    <tr>\n",
       "      <th>gate_30</th>\n",
       "      <td>0.809817</td>\n",
       "      <td>0.190183</td>\n",
       "    </tr>\n",
       "    <tr>\n",
       "      <th>gate_40</th>\n",
       "      <td>0.818000</td>\n",
       "      <td>0.182000</td>\n",
       "    </tr>\n",
       "  </tbody>\n",
       "</table>\n",
       "</div>"
      ],
      "text/plain": [
       "retention_7     False     True \n",
       "version                        \n",
       "gate_30      0.809817  0.190183\n",
       "gate_40      0.818000  0.182000"
      ]
     },
     "execution_count": 16,
     "metadata": {},
     "output_type": "execute_result"
    }
   ],
   "source": [
    "#Create cross tab for game version and retention_7 flag counting number of users for each possible categories\n",
    "\n",
    "pd.crosstab(user_df.version, user_df.retention_7).apply(lambda x: x/x.sum(), axis=1)"
   ]
  },
  {
   "cell_type": "markdown",
   "metadata": {
    "id": "aL9bwkcpiSZv"
   },
   "source": [
    "<mark>__Analsysis Results:__\n",
    "    \n",
    "> <b><span style = 'color:Green'>The difference between retention rate for gate 30 & gate 40 is minimum. But, gate_30 has bit higher\n",
    "  7 day retention rate (0.1902) which helps to arrive at a conclusion that users play game for more than 7 days at gate level 30.</span></b>"
   ]
  },
  {
   "cell_type": "markdown",
   "metadata": {
    "id": "62ZIlfh1iSZv"
   },
   "source": [
    "### Q3.2 Gamerounds summary for different game versions"
   ]
  },
  {
   "cell_type": "code",
   "execution_count": 17,
   "metadata": {
    "id": "BCyf0Q5eiSZv"
   },
   "outputs": [
    {
     "data": {
      "text/html": [
       "<div>\n",
       "<style scoped>\n",
       "    .dataframe tbody tr th:only-of-type {\n",
       "        vertical-align: middle;\n",
       "    }\n",
       "\n",
       "    .dataframe tbody tr th {\n",
       "        vertical-align: top;\n",
       "    }\n",
       "\n",
       "    .dataframe thead th {\n",
       "        text-align: right;\n",
       "    }\n",
       "</style>\n",
       "<table border=\"1\" class=\"dataframe\">\n",
       "  <thead>\n",
       "    <tr style=\"text-align: right;\">\n",
       "      <th></th>\n",
       "      <th>count</th>\n",
       "      <th>mean</th>\n",
       "    </tr>\n",
       "    <tr>\n",
       "      <th>version</th>\n",
       "      <th></th>\n",
       "      <th></th>\n",
       "    </tr>\n",
       "  </thead>\n",
       "  <tbody>\n",
       "    <tr>\n",
       "      <th>gate_30</th>\n",
       "      <td>44699</td>\n",
       "      <td>51.342111</td>\n",
       "    </tr>\n",
       "    <tr>\n",
       "      <th>gate_40</th>\n",
       "      <td>45489</td>\n",
       "      <td>51.298776</td>\n",
       "    </tr>\n",
       "  </tbody>\n",
       "</table>\n",
       "</div>"
      ],
      "text/plain": [
       "         count       mean\n",
       "version                  \n",
       "gate_30  44699  51.342111\n",
       "gate_40  45489  51.298776"
      ]
     },
     "execution_count": 17,
     "metadata": {},
     "output_type": "execute_result"
    }
   ],
   "source": [
    "#use pandas group by to calculate average game rounds played summarized by different versions.\n",
    "\n",
    "user_df.groupby(\"version\").sum_gamerounds.agg([\"count\", \"mean\"])\n"
   ]
  },
  {
   "cell_type": "markdown",
   "metadata": {
    "id": "DP5BIJZyiSZv"
   },
   "source": [
    "<mark>__Analsysis Results:__\n",
    "    \n",
    "> <b><span style = 'color : Green'>The total number of sum_gamerounds by each player differs slightly based on game version. The sum_gamerounds for gate_40 is \n",
    "  more than for gate_30, but the average gamerounds played is bit higher for gate_30 than for gate_40.</span></b>"
   ]
  },
  {
   "cell_type": "markdown",
   "metadata": {},
   "source": [
    "<h3><b><span style = 'color : MediumVioletRed' size = \"4\">Step 3: Crosstabs were generated to understand the difference in the 1-day and \n",
    "7-days retention rate and total number of game rounds played.</span></b></h3>"
   ]
  },
  {
   "cell_type": "markdown",
   "metadata": {
    "id": "HdEYjtfpiSZv"
   },
   "source": [
    "## Q4. Perform two-sample test for groups A and B to test statistical significance amongst the groups in the sum of game rounds played i.e., if groups A and B are statistically different"
   ]
  },
  {
   "cell_type": "markdown",
   "metadata": {},
   "source": [
    "<b><span style = 'color:Orange'>A/B Testing </span></b>"
   ]
  },
  {
   "cell_type": "markdown",
   "metadata": {},
   "source": [
    "<b>Two-Sample Test:</b>\n",
    "- The two-sample t-test (also known as the independent samples t-test) is a method used to test whether the unknown \n",
    "population means of two groups are equal.\n",
    "- A two-sample t-test is used to analyze the results from A/B tests.\n",
    "-It can be used to test when the data values are independent, are randomly sampled from two normal populations and the \n",
    "two independent groups have equal variances."
   ]
  },
  {
   "cell_type": "markdown",
   "metadata": {
    "id": "3ydc-t8WiSZw"
   },
   "source": [
    "### Initial data processing"
   ]
  },
  {
   "cell_type": "code",
   "execution_count": 18,
   "metadata": {
    "id": "YtgXXq93iSZw"
   },
   "outputs": [],
   "source": [
    "#Define A/B groups for hypothesis testing\n",
    "\n",
    "user_df[\"version\"] = user_df['version'].replace([\"gate_30\", \"gate_40\"], [\"A\", \"B\"])\n",
    "group_A = pd.DataFrame(user_df[user_df.version == \"A\"][\"sum_gamerounds\"])\n",
    "group_B = pd.DataFrame(user_df[user_df.version == \"B\"][\"sum_gamerounds\"])"
   ]
  },
  {
   "cell_type": "code",
   "execution_count": 19,
   "metadata": {},
   "outputs": [
    {
     "data": {
      "text/html": [
       "<div>\n",
       "<style scoped>\n",
       "    .dataframe tbody tr th:only-of-type {\n",
       "        vertical-align: middle;\n",
       "    }\n",
       "\n",
       "    .dataframe tbody tr th {\n",
       "        vertical-align: top;\n",
       "    }\n",
       "\n",
       "    .dataframe thead th {\n",
       "        text-align: right;\n",
       "    }\n",
       "</style>\n",
       "<table border=\"1\" class=\"dataframe\">\n",
       "  <thead>\n",
       "    <tr style=\"text-align: right;\">\n",
       "      <th></th>\n",
       "      <th>userid</th>\n",
       "      <th>version</th>\n",
       "      <th>sum_gamerounds</th>\n",
       "      <th>retention_1</th>\n",
       "      <th>retention_7</th>\n",
       "    </tr>\n",
       "  </thead>\n",
       "  <tbody>\n",
       "    <tr>\n",
       "      <th>0</th>\n",
       "      <td>116</td>\n",
       "      <td>A</td>\n",
       "      <td>3</td>\n",
       "      <td>False</td>\n",
       "      <td>False</td>\n",
       "    </tr>\n",
       "    <tr>\n",
       "      <th>1</th>\n",
       "      <td>337</td>\n",
       "      <td>A</td>\n",
       "      <td>38</td>\n",
       "      <td>True</td>\n",
       "      <td>False</td>\n",
       "    </tr>\n",
       "    <tr>\n",
       "      <th>2</th>\n",
       "      <td>377</td>\n",
       "      <td>B</td>\n",
       "      <td>165</td>\n",
       "      <td>True</td>\n",
       "      <td>False</td>\n",
       "    </tr>\n",
       "    <tr>\n",
       "      <th>3</th>\n",
       "      <td>483</td>\n",
       "      <td>B</td>\n",
       "      <td>1</td>\n",
       "      <td>False</td>\n",
       "      <td>False</td>\n",
       "    </tr>\n",
       "    <tr>\n",
       "      <th>4</th>\n",
       "      <td>488</td>\n",
       "      <td>B</td>\n",
       "      <td>179</td>\n",
       "      <td>True</td>\n",
       "      <td>True</td>\n",
       "    </tr>\n",
       "  </tbody>\n",
       "</table>\n",
       "</div>"
      ],
      "text/plain": [
       "   userid version  sum_gamerounds  retention_1  retention_7\n",
       "0     116       A               3        False        False\n",
       "1     337       A              38         True        False\n",
       "2     377       B             165         True        False\n",
       "3     483       B               1        False        False\n",
       "4     488       B             179         True         True"
      ]
     },
     "execution_count": 19,
     "metadata": {},
     "output_type": "execute_result"
    }
   ],
   "source": [
    "user_df.head(5)"
   ]
  },
  {
   "cell_type": "markdown",
   "metadata": {
    "id": "zlyeTKiTiSZw"
   },
   "source": [
    "### Q4.1 Shapiro test of Normality"
   ]
  },
  {
   "cell_type": "markdown",
   "metadata": {},
   "source": [
    "<b>Shapiro Wilks Normality Test:</b>\n",
    "- The Shapiro-Wilks test for normality is one of three general normality tests designed to detect all departures from normality.\n",
    "- It is comparable in power to the other two tests. The test rejects the hypothesis of normality when the p-value is less than or\n",
    "equal to 0.05."
   ]
  },
  {
   "cell_type": "code",
   "execution_count": 20,
   "metadata": {
    "id": "tXsSQmHdiSZw"
   },
   "outputs": [],
   "source": [
    "#---------------------- Shapiro Test ----------------------\n",
    "# NULL Hypothesis H0: Distribution is normal\n",
    "# ALTERNATE Hypothesis H1: Distribution is not normal    \n",
    "\n",
    "#test for group_A\n",
    "normality_A = shapiro(group_A) \n",
    "\n",
    "#test for group_B\n",
    "normality_B = shapiro(group_B)"
   ]
  },
  {
   "cell_type": "code",
   "execution_count": 21,
   "metadata": {},
   "outputs": [
    {
     "name": "stdout",
     "output_type": "stream",
     "text": [
      "ShapiroResult(statistic=0.48864424228668213, pvalue=0.0)\n",
      "ShapiroResult(statistic=0.4825654625892639, pvalue=0.0)\n"
     ]
    }
   ],
   "source": [
    "print(normality_A)\n",
    "print(normality_B)"
   ]
  },
  {
   "cell_type": "markdown",
   "metadata": {
    "id": "AOQIRsuAiSZw"
   },
   "source": [
    "<mark>__Analsysis Results:__\n",
    "    \n",
    "> <b><span style = 'color : Green'>The significance value (p-value) of Shapiro Wilk's test of Normality for both group_A and group_B are \n",
    "less than 0.05, which implies that the Null Hypothesis H0: Distribution is Normal -  is False. So,we reject H0. Hence,\n",
    "The data in sum_gamerounds column at gate_30 and gate_40 are not normally distributed.</span></b>"
   ]
  },
  {
   "cell_type": "markdown",
   "metadata": {
    "id": "q4o9AOd7iSZx"
   },
   "source": [
    "### Q4.2 Test of homegeneity of variance"
   ]
  },
  {
   "cell_type": "markdown",
   "metadata": {},
   "source": [
    "<b>Homogeneity of Variance:</b>\n",
    "- Equal variances across samples is called homogeneity of variance. Some statistical tests, for example the analysis of \n",
    "variance, assume that variances are equal across groups or samples. The <b>Levene Test</b> can be used to verify that assumption.\n",
    "-  If the resulting p-value of Levene's test is less than some significance level (typically 0.05), the obtained differences in\n",
    "sample variances are unlikely to have occurred based on random sampling from a population with equal variances. "
   ]
  },
  {
   "cell_type": "code",
   "execution_count": 22,
   "metadata": {
    "id": "mrziVdBNiSZx"
   },
   "outputs": [
    {
     "data": {
      "text/plain": [
       "LeveneResult(statistic=0.07510153837481241, pvalue=0.7840494387892463)"
      ]
     },
     "execution_count": 22,
     "metadata": {},
     "output_type": "execute_result"
    }
   ],
   "source": [
    "#---------------------- Leven's Test ----------------------\n",
    "# NULL Hypothesis H0: Two groups have equal variances\n",
    "# ALTERNATE Hypothesis H1: Two groups do not have equal variances\n",
    "\n",
    "#perform levene's test and accept or reject the null hypothesis based on the results\n",
    "\n",
    "stats.levene(group_A.sum_gamerounds, group_B.sum_gamerounds)"
   ]
  },
  {
   "cell_type": "markdown",
   "metadata": {
    "id": "LwTNd1VPiSZx"
   },
   "source": [
    "<mark>__Analsysis Results:__\n",
    "> <b><span style = 'color : Green'> The p-value from the Levene's test is 0.784, which is much greater than 0.05. Therefore, H0 is accepted. \n",
    "<br>Hence, both Group A and Group B have same kind of vaiances. </span></b>"
   ]
  },
  {
   "cell_type": "markdown",
   "metadata": {
    "id": "uWPsJfKPiSZy"
   },
   "source": [
    "### Q4.3 Test of significance: Two sample test"
   ]
  },
  {
   "cell_type": "markdown",
   "metadata": {},
   "source": [
    "<b>Test of Significance:</b>\n",
    "- A test of significance is a formal procedure for comparing observed data with a claim (also called a hypothesis), the \n",
    "truth of which is being assessed. The claim is a statement about a parameter, like the population proportion p or the \n",
    "population mean µ.\n",
    "- The<b> Mann Whitney U test</b>, sometimes called the Mann Whitney Wilcoxon Test or the Wilcoxon Rank Sum Test, is used to test \n",
    "whether two samples are likely to derive from the same population (i.e., that the two populations have the same shape).\n",
    "- When computing U, the number of comparisons equals the product of the number of values in group A times the number of \n",
    "values in group B. If the null hypothesis is true, then the value of U should be about half that value. If the value of \n",
    "U is much smaller than that, the P value will be small."
   ]
  },
  {
   "cell_type": "code",
   "execution_count": 23,
   "metadata": {
    "id": "l7nqj4X5iSZz"
   },
   "outputs": [
    {
     "data": {
      "text/plain": [
       "MannwhitneyuResult(statistic=1024285761.5, pvalue=0.02544577639572688)"
      ]
     },
     "execution_count": 23,
     "metadata": {},
     "output_type": "execute_result"
    }
   ],
   "source": [
    "#---------------------- Two samples test ----------------------\n",
    "# NULL Hypothesis H0: Two samples are equal\n",
    "# ALTERNATE Hypothesis H1: Two samples are different (That means group_A has more number of sum_gamerounds).\n",
    "\n",
    "#Apply relevant two sample test to accept or reject the NULL hypothesis\n",
    "\n",
    "\n",
    "stats.mannwhitneyu(group_A.sum_gamerounds, group_B.sum_gamerounds, alternative='greater')"
   ]
  },
  {
   "cell_type": "markdown",
   "metadata": {
    "id": "kE7uFYGSiSZz"
   },
   "source": [
    "<mark>__Analsysis Results:__\n",
    "    \n",
    "> <b><font color = 'Green'>We have repeated the Mann-Whiteney U Test with the same H0, but with the alternate hypothesis\n",
    "being whether group_A is greater than group_B. The resultant p-value of the test is 0.025 which is less than 0.05. Hence we reject the \n",
    "null hypothesis H0.\n",
    "<br>So, the two samples group_A and group_B are not same, they are statistically different.</font></b>"
   ]
  },
  {
   "cell_type": "markdown",
   "metadata": {},
   "source": [
    "<h3><b><span style = 'color : MediumVioletRed'>Step 4: Two-sample test to test the statistical significance amongst groups A and B\n",
    "for sum_gamerounds played is performed, which confirmed that, both groups (A & B ) are statistically different.</span></b></h3> "
   ]
  },
  {
   "cell_type": "markdown",
   "metadata": {
    "id": "AJRShYQFiSZz"
   },
   "source": [
    "## Q5. Based on significance testing results, if groups A and B are statistically different, which level has more advantage in terms of player retention and number of game rounds played"
   ]
  },
  {
   "cell_type": "code",
   "execution_count": 24,
   "metadata": {},
   "outputs": [
    {
     "data": {
      "text/html": [
       "<div>\n",
       "<style scoped>\n",
       "    .dataframe tbody tr th:only-of-type {\n",
       "        vertical-align: middle;\n",
       "    }\n",
       "\n",
       "    .dataframe tbody tr th {\n",
       "        vertical-align: top;\n",
       "    }\n",
       "\n",
       "    .dataframe thead th {\n",
       "        text-align: right;\n",
       "    }\n",
       "</style>\n",
       "<table border=\"1\" class=\"dataframe\">\n",
       "  <thead>\n",
       "    <tr style=\"text-align: right;\">\n",
       "      <th></th>\n",
       "      <th>retention_7</th>\n",
       "      <th>retention_1</th>\n",
       "    </tr>\n",
       "    <tr>\n",
       "      <th>version</th>\n",
       "      <th></th>\n",
       "      <th></th>\n",
       "    </tr>\n",
       "  </thead>\n",
       "  <tbody>\n",
       "    <tr>\n",
       "      <th>A</th>\n",
       "      <td>0.190183</td>\n",
       "      <td>0.448198</td>\n",
       "    </tr>\n",
       "    <tr>\n",
       "      <th>B</th>\n",
       "      <td>0.182000</td>\n",
       "      <td>0.442283</td>\n",
       "    </tr>\n",
       "  </tbody>\n",
       "</table>\n",
       "</div>"
      ],
      "text/plain": [
       "         retention_7  retention_1\n",
       "version                          \n",
       "A           0.190183     0.448198\n",
       "B           0.182000     0.442283"
      ]
     },
     "execution_count": 24,
     "metadata": {},
     "output_type": "execute_result"
    }
   ],
   "source": [
    "user_df[[\"version\", \"retention_7\", \"retention_1\"]].groupby(\"version\").agg(\"mean\")"
   ]
  },
  {
   "cell_type": "markdown",
   "metadata": {
    "id": "eNFy8DxGiSZz"
   },
   "source": [
    "<mark>__Analsysis Results:__\n",
    "    \n",
    "> <b><span style = 'color : Green'>From the above result, it is clear that both the 1-day & 7-day retention rates are more at gate_30. Hence, The conclusion arrived is ,\n",
    "</span>\n",
    "> <span style = 'color:Blue'>The company should not change the gate from level 30 to level 40.</span></b>"
   ]
  },
  {
   "cell_type": "markdown",
   "metadata": {},
   "source": [
    "<h3><b><span style = 'color:MediumVioletRed'>Step 5: The significance test results were analyzed and the conclusion derived is:\n",
    "Gate_30 has more advantage in terms of player retention.</span></b></h3>"
   ]
  },
  {
   "cell_type": "markdown",
   "metadata": {
    "id": "GFeU6V0kiSZ0"
   },
   "source": [
    "## Q6. [Bonus Question]  Using bootstrap resampling, plot the retention rate distribution for both the groups inorder to visualize effect of different version of the game on retention."
   ]
  },
  {
   "cell_type": "markdown",
   "metadata": {},
   "source": [
    "- The bootstrap method is a resampling technique used to estimate statistics on a population by sampling a dataset with replacement. It can be used to estimate summary statistics such as the mean or standard deviation.\n",
    "- This process allows you to calculate standard errors, construct confidence intervals, and perform hypothesis testing for numerous types of sample statistics."
   ]
  },
  {
   "cell_type": "code",
   "execution_count": 29,
   "metadata": {},
   "outputs": [
    {
     "data": {
      "text/plain": [
       "<AxesSubplot:ylabel='Density'>"
      ]
     },
     "execution_count": 29,
     "metadata": {},
     "output_type": "execute_result"
    },
    {
     "data": {
      "text/plain": [
       "Text(0.5, 0, 'Retention Rate')"
      ]
     },
     "execution_count": 29,
     "metadata": {},
     "output_type": "execute_result"
    },
    {
     "data": {
      "text/plain": [
       "Text(0.5, 1.0, '1-Day Retention Rate Distribution')"
      ]
     },
     "execution_count": 29,
     "metadata": {},
     "output_type": "execute_result"
    },
    {
     "data": {
      "text/plain": [
       "<AxesSubplot:ylabel='Density'>"
      ]
     },
     "execution_count": 29,
     "metadata": {},
     "output_type": "execute_result"
    },
    {
     "data": {
      "text/plain": [
       "Text(0.5, 0, 'Retention Rate')"
      ]
     },
     "execution_count": 29,
     "metadata": {},
     "output_type": "execute_result"
    },
    {
     "data": {
      "text/plain": [
       "Text(0.5, 1.0, '7-Days Retention Rate Distribution')"
      ]
     },
     "execution_count": 29,
     "metadata": {},
     "output_type": "execute_result"
    },
    {
     "data": {
      "image/png": "[encoded data removed]",
      "text/plain": [
       "<Figure size 864x288 with 2 Axes>"
      ]
     },
     "metadata": {
      "needs_background": "light"
     },
     "output_type": "display_data"
    }
   ],
   "source": [
    "#Hint: Plot density function\n",
    "list_1day = []\n",
    "list_7day = []\n",
    "\n",
    "for i in range(500):\n",
    "    boot_mean1 = user_df.sample(frac = 0.7, replace = True).groupby('version')['retention_1'].mean()\n",
    "    list_1day.append(boot_mean1.values)\n",
    "    \n",
    "    boot_mean2 = user_df.sample(frac = 0.7, replace  = True).groupby('version')['retention_7'].mean()\n",
    "    list_7day.append(boot_mean2.values)\n",
    "    \n",
    "# Transforming the list to a DataFrame\n",
    "list_1day = pd.DataFrame(list_1day, columns = ['gate_30','gate_40'])\n",
    "list_7day = pd.DataFrame(list_7day, columns = ['gate_30','gate_40'])\n",
    "\n",
    "fig, (ax1, ax2) = plt.subplots(1, 2, sharey=True, figsize=(12, 4))\n",
    "\n",
    "list_1day.plot(kind = \"kde\", ax = ax1)\n",
    "ax1.set_xlabel(\"Retention Rate\", size=11)\n",
    "ax1.set_title(\"1-Day Retention Rate Distribution\", fontweight='bold', size=14)\n",
    "\n",
    "list_7day.plot(kind=\"kde\", ax = ax2)\n",
    "ax2.set_xlabel(\"Retention Rate\", size=11)\n",
    "ax2.set_title(\"7-Days Retention Rate Distribution\", fontweight='bold', size=14)"
   ]
  },
  {
   "cell_type": "markdown",
   "metadata": {},
   "source": [
    "<Mark> __Observation__\n",
    "- <b>The above plots also show the same result as that of the previous cross tab. That is, gate_30 is having higher Retention Rate for both 1-day & 7-days.</b>"
   ]
  },
  {
   "cell_type": "code",
   "execution_count": 26,
   "metadata": {},
   "outputs": [
    {
     "data": {
      "text/plain": [
       "<AxesSubplot:ylabel='Density'>"
      ]
     },
     "execution_count": 26,
     "metadata": {},
     "output_type": "execute_result"
    },
    {
     "data": {
      "text/plain": [
       "<AxesSubplot:ylabel='Density'>"
      ]
     },
     "execution_count": 26,
     "metadata": {},
     "output_type": "execute_result"
    },
    {
     "data": {
      "text/plain": [
       "Text(0.5, 0, '% Difference')"
      ]
     },
     "execution_count": 26,
     "metadata": {},
     "output_type": "execute_result"
    },
    {
     "data": {
      "text/plain": [
       "Text(0, 0.5, '% Density')"
      ]
     },
     "execution_count": 26,
     "metadata": {},
     "output_type": "execute_result"
    },
    {
     "data": {
      "text/plain": [
       "Text(0.5, 1.0, 'Difference in Retention Rates at both gates 30 & 40.')"
      ]
     },
     "execution_count": 26,
     "metadata": {},
     "output_type": "execute_result"
    },
    {
     "data": {
      "text/plain": [
       "<matplotlib.legend.Legend at 0x1ff3e27afd0>"
      ]
     },
     "execution_count": 26,
     "metadata": {},
     "output_type": "execute_result"
    },
    {
     "data": {
      "image/png": "[encoded data removed]",
      "text/plain": [
       "<Figure size 360x360 with 1 Axes>"
      ]
     },
     "metadata": {
      "needs_background": "light"
     },
     "output_type": "display_data"
    }
   ],
   "source": [
    "# Adding a column with the % difference between the two (A & B) groups for both gate_30 & gate_40. \n",
    "list_1day['diff'] = (list_1day['gate_30'] - list_1day['gate_40']) /  list_1day['gate_30'] * 100\n",
    "list_7day['diff'] = (list_7day['gate_30'] - list_7day['gate_40']) /  list_7day['gate_30'] * 100\n",
    "\n",
    "# Plotting the Bootstrap % Difference for gate_30\n",
    "fig, (ax1) = plt.subplots(1, 1, figsize=(5,5))\n",
    "list_1day['diff'].plot(kind = \"kde\", ax=ax1, c=\"#b22222\", label=\"1-Day Retention\")\n",
    "list_7day['diff'].plot(kind = \"kde\", ax=ax1, c=\"#4169e1\", label=\"7-Days Retention\")\n",
    "ax1.set_xlabel(\"% Difference\")\n",
    "ax1.set_ylabel(\"% Density\")\n",
    "ax1.set_title(\"Difference in Retention Rates at both gates 30 & 40.\", fontweight='bold')\n",
    "plt.legend()\n",
    "plt.show()"
   ]
  },
  {
   "cell_type": "markdown",
   "metadata": {},
   "source": [
    "<Mark> __Observation:__\n",
    "- <b>The above chart shows that the most likely % difference is around 1% to 3% for 1-Day Retention, and is higher (around 2% to 8%) for 7-Days Retention.</b>\n",
    "- <b>Mostly the distribution is above 0% at gate_30.</b>\n"
   ]
  },
  {
   "cell_type": "markdown",
   "metadata": {},
   "source": [
    "### Finding the Probability of 1-day & 7-days Retention Rates - at Gate-30."
   ]
  },
  {
   "cell_type": "code",
   "execution_count": 27,
   "metadata": {},
   "outputs": [
    {
     "name": "stdout",
     "output_type": "stream",
     "text": [
      "Probability of 1-day Retention Rate at gate_30: 95.2%\n",
      "Probability of 7-days Retention Rate at gate_30: 99.8%\n"
     ]
    }
   ],
   "source": [
    "# Calculating Probabilities for 1-day & 7-days Retention Rate at gate_30.\n",
    "prob1 = (list_1day['diff'] > 0).sum() / len(list_1day)\n",
    "prob2 = (list_7day['diff'] > 0).sum() / len(list_7day)\n",
    "\n",
    "# printing the probability\n",
    "\n",
    "print(\"Probability of 1-day Retention Rate at gate_30:\", '{:.1%}'.format(prob1))\n",
    "print(\"Probability of 7-days Retention Rate at gate_30:\", '{:.1%}'.format(prob2))\n"
   ]
  },
  {
   "cell_type": "markdown",
   "metadata": {},
   "source": [
    "<Mark> __Observation__\n",
    "- <b>The bootstrap result indicates that, there is a 99% chance for the 7-day retention is higher at gate_30 than gate_40.</b>"
   ]
  },
  {
   "cell_type": "markdown",
   "metadata": {},
   "source": [
    "<h3><b><span style = 'color : MediumVioletRed'>Step 6: Bootstrap Resampling is used to plot the retention rate distribution for both groups to visualize the effect of different \n",
    "versions of the game on retention.</span></b></h3> "
   ]
  },
  {
   "cell_type": "markdown",
   "metadata": {},
   "source": [
    "### <mark>  __Conclusion:__\n",
    "<h3><b><span style = 'color : Blue'>If we want to keep Retention high for both 1-Day & 7-Days - Do not move Gate from level 30 to 40.\n",
    "</span></b></h3>"
   ]
  },
  {
   "cell_type": "code",
   "execution_count": null,
   "metadata": {},
   "outputs": [],
   "source": []
  }
 ],
 "metadata": {
  "colab": {
   "collapsed_sections": [],
   "name": "Project 7 Starter Code.ipynb",
   "provenance": []
  },
  "kernelspec": {
   "display_name": "Python 3",
   "language": "python",
   "name": "python3"
  },
  "language_info": {
   "codemirror_mode": {
    "name": "ipython",
    "version": 3
   },
   "file_extension": ".py",
   "mimetype": "text/x-python",
   "name": "python",
   "nbconvert_exporter": "python",
   "pygments_lexer": "ipython3",
   "version": "3.7.3"
  }
 },
 "nbformat": 4,
 "nbformat_minor": 1
}
